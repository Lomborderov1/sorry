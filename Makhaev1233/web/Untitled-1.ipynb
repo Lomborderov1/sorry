{
 "cells": [
  {
   "cell_type": "code",
   "execution_count": null,
   "metadata": {},
   "outputs": [
    {
     "ename": "",
     "evalue": "",
     "output_type": "error",
     "traceback": [
      "\u001b[1;31mНе удалось запустить ядро. \n",
      "\u001b[1;31mAttributeError: partially initialized module 'sqlite3' has no attribute 'connect' (most likely due to a circular import). \n",
      "\u001b[1;31mПодробнее см. в <a href='command:jupyter.viewOutput'>журнале Jupyter</a>."
     ]
    }
   ],
   "source": [
    "import sqlite3 as sq \n",
    "\n",
    "conn = sq.connect('sqlite.db')\n",
    "cur = conn.cursor()\n",
    "cur.execute(\"\"\"CREATE TABLE IF NOT EXISTS menu(\n",
    "    user_id INTEGER,\n",
    "    name TEXT,\n",
    "    age INTEGER NOT NULL DEFAULT 0\n",
    ")\"\"\")\n",
    "\n",
    "cur.execute(\"INSERT INTO menu VALUES (1, 'Yunus', 26)\")\n",
    "\n",
    "conn.close()"
   ]
  }
 ],
 "metadata": {
  "kernelspec": {
   "display_name": "Python 3.8.8 64-bit",
   "language": "python",
   "name": "python3"
  },
  "language_info": {
   "name": "python",
   "version": "3.8.8"
  },
  "orig_nbformat": 4,
  "vscode": {
   "interpreter": {
    "hash": "cd6e68baa75af3406debfabc26215d9a7e8e77eaa31b99242a22b84f3b2d995d"
   }
  }
 },
 "nbformat": 4,
 "nbformat_minor": 2
}
